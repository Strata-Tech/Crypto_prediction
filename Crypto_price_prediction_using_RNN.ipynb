{
  "nbformat": 4,
  "nbformat_minor": 0,
  "metadata": {
    "colab": {
      "name": "Crypto price prediction using RNN.ipynb",
      "provenance": [],
      "collapsed_sections": [],
      "mount_file_id": "1_r7PuEfF1g2qg-y6T8xdZlata3pHIVhi",
      "authorship_tag": "ABX9TyPaxtU7e68aVoXA8Ne0yZly",
      "include_colab_link": true
    },
    "kernelspec": {
      "name": "python3",
      "display_name": "Python 3"
    },
    "language_info": {
      "name": "python"
    }
  },
  "cells": [
    {
      "cell_type": "markdown",
      "metadata": {
        "id": "view-in-github",
        "colab_type": "text"
      },
      "source": [
        "<a href=\"https://colab.research.google.com/github/Strata-Tech/Crypto_prediction/blob/main/Crypto_price_prediction_using_RNN.ipynb\" target=\"_parent\"><img src=\"https://colab.research.google.com/assets/colab-badge.svg\" alt=\"Open In Colab\"/></a>"
      ]
    },
    {
      "cell_type": "code",
      "metadata": {
        "id": "R3HNRMjOM-73"
      },
      "source": [
        "import pandas as pd"
      ],
      "execution_count": 1,
      "outputs": []
    },
    {
      "cell_type": "code",
      "metadata": {
        "id": "zPfohLn9NHcN"
      },
      "source": [
        "df=pd.read_csv('/content/drive/MyDrive/crypto_data/LTC-USD.csv',names=['time','low','high','open','close','volume'])\n",
        "               \n"
      ],
      "execution_count": 2,
      "outputs": []
    },
    {
      "cell_type": "code",
      "metadata": {
        "colab": {
          "base_uri": "https://localhost:8080/",
          "height": 204
        },
        "id": "3zjzT6i_NHgY",
        "outputId": "7c891505-aab5-4043-9d92-d5a8002eccba"
      },
      "source": [
        "df.head()"
      ],
      "execution_count": 3,
      "outputs": [
        {
          "output_type": "execute_result",
          "data": {
            "text/html": [
              "<div>\n",
              "<style scoped>\n",
              "    .dataframe tbody tr th:only-of-type {\n",
              "        vertical-align: middle;\n",
              "    }\n",
              "\n",
              "    .dataframe tbody tr th {\n",
              "        vertical-align: top;\n",
              "    }\n",
              "\n",
              "    .dataframe thead th {\n",
              "        text-align: right;\n",
              "    }\n",
              "</style>\n",
              "<table border=\"1\" class=\"dataframe\">\n",
              "  <thead>\n",
              "    <tr style=\"text-align: right;\">\n",
              "      <th></th>\n",
              "      <th>time</th>\n",
              "      <th>low</th>\n",
              "      <th>high</th>\n",
              "      <th>open</th>\n",
              "      <th>close</th>\n",
              "      <th>volume</th>\n",
              "    </tr>\n",
              "  </thead>\n",
              "  <tbody>\n",
              "    <tr>\n",
              "      <th>0</th>\n",
              "      <td>1528968660</td>\n",
              "      <td>96.580002</td>\n",
              "      <td>96.589996</td>\n",
              "      <td>96.589996</td>\n",
              "      <td>96.580002</td>\n",
              "      <td>9.647200</td>\n",
              "    </tr>\n",
              "    <tr>\n",
              "      <th>1</th>\n",
              "      <td>1528968720</td>\n",
              "      <td>96.449997</td>\n",
              "      <td>96.669998</td>\n",
              "      <td>96.589996</td>\n",
              "      <td>96.660004</td>\n",
              "      <td>314.387024</td>\n",
              "    </tr>\n",
              "    <tr>\n",
              "      <th>2</th>\n",
              "      <td>1528968780</td>\n",
              "      <td>96.470001</td>\n",
              "      <td>96.570000</td>\n",
              "      <td>96.570000</td>\n",
              "      <td>96.570000</td>\n",
              "      <td>77.129799</td>\n",
              "    </tr>\n",
              "    <tr>\n",
              "      <th>3</th>\n",
              "      <td>1528968840</td>\n",
              "      <td>96.449997</td>\n",
              "      <td>96.570000</td>\n",
              "      <td>96.570000</td>\n",
              "      <td>96.500000</td>\n",
              "      <td>7.216067</td>\n",
              "    </tr>\n",
              "    <tr>\n",
              "      <th>4</th>\n",
              "      <td>1528968900</td>\n",
              "      <td>96.279999</td>\n",
              "      <td>96.540001</td>\n",
              "      <td>96.500000</td>\n",
              "      <td>96.389999</td>\n",
              "      <td>524.539978</td>\n",
              "    </tr>\n",
              "  </tbody>\n",
              "</table>\n",
              "</div>"
            ],
            "text/plain": [
              "         time        low       high       open      close      volume\n",
              "0  1528968660  96.580002  96.589996  96.589996  96.580002    9.647200\n",
              "1  1528968720  96.449997  96.669998  96.589996  96.660004  314.387024\n",
              "2  1528968780  96.470001  96.570000  96.570000  96.570000   77.129799\n",
              "3  1528968840  96.449997  96.570000  96.570000  96.500000    7.216067\n",
              "4  1528968900  96.279999  96.540001  96.500000  96.389999  524.539978"
            ]
          },
          "metadata": {},
          "execution_count": 3
        }
      ]
    },
    {
      "cell_type": "code",
      "metadata": {
        "colab": {
          "base_uri": "https://localhost:8080/"
        },
        "id": "aWjR75tyNHk2",
        "outputId": "50cd4b3e-71cc-4233-cd8b-a1689fec1ed4"
      },
      "source": [
        "#our 4 datasets have prices for Bitcoin, Litecoin, Ethereum, and Bitcoin Cash.\n",
        "#combining the 4 datasets together\n",
        "\n",
        "main_df=pd.DataFrame()\n",
        "ratios = [\"BTC-USD\", \"LTC-USD\", \"BCH-USD\", \"ETH-USD\"]  # the 4 ratios we want to consider\n",
        "for ratio in ratios:\n",
        "  dataset=f\"/content/drive/MyDrive/crypto_data/{ratio}.csv\"\n",
        "  df = pd.read_csv(dataset, names=['time', 'low', 'high', 'open', 'close', 'volume']) \n",
        "\n",
        "  # rename volume and close to include the ticker so we can still which close/volume is which:\n",
        "  df.rename(columns={\"close\": f\"{ratio}_close\", \"volume\": f\"{ratio}_volume\"}, inplace=True)\n",
        "\n",
        "  df.set_index(\"time\", inplace=True)  # set time as index so we can join them on this shared time\n",
        "  df = df[[f\"{ratio}_close\", f\"{ratio}_volume\"]]  # ignore the other columns besides price and volume\n",
        "\n",
        "  if len(main_df)==0:\n",
        "    main_df=df\n",
        "\n",
        "  else:\n",
        "    main_df=main_df.join(df)\n",
        "\n",
        "main_df.fillna(method=\"ffill\", inplace=True)  # if there are gaps in data, use previously known values\n",
        "main_df.dropna(inplace=True)\n",
        "print(main_df.head())\n",
        "  "
      ],
      "execution_count": 4,
      "outputs": [
        {
          "output_type": "stream",
          "name": "stdout",
          "text": [
            "            BTC-USD_close  BTC-USD_volume  ...  ETH-USD_close  ETH-USD_volume\n",
            "time                                       ...                               \n",
            "1528968720    6487.379883        7.706374  ...      486.01001       26.019083\n",
            "1528968780    6479.410156        3.088252  ...      486.00000        8.449400\n",
            "1528968840    6479.410156        1.404100  ...      485.75000       26.994646\n",
            "1528968900    6479.979980        0.753000  ...      486.00000       77.355759\n",
            "1528968960    6480.000000        1.490900  ...      486.00000        7.503300\n",
            "\n",
            "[5 rows x 8 columns]\n"
          ]
        }
      ]
    },
    {
      "cell_type": "code",
      "metadata": {
        "id": "oSbu_UnhNHpC"
      },
      "source": [
        "#creating a target , if 1 means future price will be higher hence should buy, 0 means lower"
      ],
      "execution_count": 5,
      "outputs": []
    },
    {
      "cell_type": "markdown",
      "metadata": {
        "id": "imI5b5cSQbyV"
      },
      "source": [
        "Knowing how far out we want to predict probably also depends how long our sequences are. If our sequence length is 3 (so...3 minutes), we probably can't easily predict out 10 minutes. If our sequence length is 300, 10 might not be as hard. I'd like to go with a sequence length of 60, and a future prediction out of 3. We could also make the prediction a regression question, using a linear activation with the output layer, but, instead, we are going to  go with a binary classification.\n",
        "\n",
        "If price goes up in 3 minutes, then it's a buy. If it goes down in 3 minutes, not buy/sell. "
      ]
    },
    {
      "cell_type": "code",
      "metadata": {
        "id": "5gFJh3WlQMRH"
      },
      "source": [
        "SEQ_LEN = 60  # how long of a preceeding sequence to collect for RNN\n",
        "FUTURE_PERIOD_PREDICT = 3  # how far into the future are we trying to predict?\n",
        "RATIO_TO_PREDICT = \"LTC-USD\""
      ],
      "execution_count": 6,
      "outputs": []
    },
    {
      "cell_type": "code",
      "metadata": {
        "id": "ghWbjqehQMWq"
      },
      "source": [
        "def classify(current, future):\n",
        "    if float(future) > float(current):\n",
        "        return 1\n",
        "    else:\n",
        "        return 0"
      ],
      "execution_count": 7,
      "outputs": []
    },
    {
      "cell_type": "code",
      "metadata": {
        "id": "dAuY5U9FNHty"
      },
      "source": [
        "#.shift will just shift the columns for us, a negative shift will shift them \"up.\" \n",
        "#So shifting up 3 will give us the price 3 minutes in the future, and \n",
        "#we're just assigning this to a new column.\n",
        "main_df['future'] = main_df[f'{RATIO_TO_PREDICT}_close'].shift(-FUTURE_PERIOD_PREDICT)"
      ],
      "execution_count": 8,
      "outputs": []
    },
    {
      "cell_type": "code",
      "metadata": {
        "id": "haFGyjoxNHyL"
      },
      "source": [
        "#e've got the future values, we can use them to \n",
        "#make a target using the function we made above.\n",
        "main_df['target'] = list(map(classify, main_df[f'{RATIO_TO_PREDICT}_close'], main_df['future']))"
      ],
      "execution_count": 9,
      "outputs": []
    },
    {
      "cell_type": "code",
      "metadata": {
        "colab": {
          "base_uri": "https://localhost:8080/",
          "height": 252
        },
        "id": "EEyRkJ0ANH21",
        "outputId": "19b77c6b-bd59-4256-9186-b1b678a16be5"
      },
      "source": [
        "main_df.head()"
      ],
      "execution_count": 10,
      "outputs": [
        {
          "output_type": "execute_result",
          "data": {
            "text/html": [
              "<div>\n",
              "<style scoped>\n",
              "    .dataframe tbody tr th:only-of-type {\n",
              "        vertical-align: middle;\n",
              "    }\n",
              "\n",
              "    .dataframe tbody tr th {\n",
              "        vertical-align: top;\n",
              "    }\n",
              "\n",
              "    .dataframe thead th {\n",
              "        text-align: right;\n",
              "    }\n",
              "</style>\n",
              "<table border=\"1\" class=\"dataframe\">\n",
              "  <thead>\n",
              "    <tr style=\"text-align: right;\">\n",
              "      <th></th>\n",
              "      <th>BTC-USD_close</th>\n",
              "      <th>BTC-USD_volume</th>\n",
              "      <th>LTC-USD_close</th>\n",
              "      <th>LTC-USD_volume</th>\n",
              "      <th>BCH-USD_close</th>\n",
              "      <th>BCH-USD_volume</th>\n",
              "      <th>ETH-USD_close</th>\n",
              "      <th>ETH-USD_volume</th>\n",
              "      <th>future</th>\n",
              "      <th>target</th>\n",
              "    </tr>\n",
              "    <tr>\n",
              "      <th>time</th>\n",
              "      <th></th>\n",
              "      <th></th>\n",
              "      <th></th>\n",
              "      <th></th>\n",
              "      <th></th>\n",
              "      <th></th>\n",
              "      <th></th>\n",
              "      <th></th>\n",
              "      <th></th>\n",
              "      <th></th>\n",
              "    </tr>\n",
              "  </thead>\n",
              "  <tbody>\n",
              "    <tr>\n",
              "      <th>1528968720</th>\n",
              "      <td>6487.379883</td>\n",
              "      <td>7.706374</td>\n",
              "      <td>96.660004</td>\n",
              "      <td>314.387024</td>\n",
              "      <td>870.859985</td>\n",
              "      <td>26.856577</td>\n",
              "      <td>486.01001</td>\n",
              "      <td>26.019083</td>\n",
              "      <td>96.389999</td>\n",
              "      <td>0</td>\n",
              "    </tr>\n",
              "    <tr>\n",
              "      <th>1528968780</th>\n",
              "      <td>6479.410156</td>\n",
              "      <td>3.088252</td>\n",
              "      <td>96.570000</td>\n",
              "      <td>77.129799</td>\n",
              "      <td>870.099976</td>\n",
              "      <td>1.124300</td>\n",
              "      <td>486.00000</td>\n",
              "      <td>8.449400</td>\n",
              "      <td>96.519997</td>\n",
              "      <td>0</td>\n",
              "    </tr>\n",
              "    <tr>\n",
              "      <th>1528968840</th>\n",
              "      <td>6479.410156</td>\n",
              "      <td>1.404100</td>\n",
              "      <td>96.500000</td>\n",
              "      <td>7.216067</td>\n",
              "      <td>870.789978</td>\n",
              "      <td>1.749862</td>\n",
              "      <td>485.75000</td>\n",
              "      <td>26.994646</td>\n",
              "      <td>96.440002</td>\n",
              "      <td>0</td>\n",
              "    </tr>\n",
              "    <tr>\n",
              "      <th>1528968900</th>\n",
              "      <td>6479.979980</td>\n",
              "      <td>0.753000</td>\n",
              "      <td>96.389999</td>\n",
              "      <td>524.539978</td>\n",
              "      <td>870.000000</td>\n",
              "      <td>1.680500</td>\n",
              "      <td>486.00000</td>\n",
              "      <td>77.355759</td>\n",
              "      <td>96.470001</td>\n",
              "      <td>1</td>\n",
              "    </tr>\n",
              "    <tr>\n",
              "      <th>1528968960</th>\n",
              "      <td>6480.000000</td>\n",
              "      <td>1.490900</td>\n",
              "      <td>96.519997</td>\n",
              "      <td>16.991997</td>\n",
              "      <td>869.989990</td>\n",
              "      <td>1.669014</td>\n",
              "      <td>486.00000</td>\n",
              "      <td>7.503300</td>\n",
              "      <td>96.400002</td>\n",
              "      <td>0</td>\n",
              "    </tr>\n",
              "  </tbody>\n",
              "</table>\n",
              "</div>"
            ],
            "text/plain": [
              "            BTC-USD_close  BTC-USD_volume  ...     future  target\n",
              "time                                       ...                   \n",
              "1528968720    6487.379883        7.706374  ...  96.389999       0\n",
              "1528968780    6479.410156        3.088252  ...  96.519997       0\n",
              "1528968840    6479.410156        1.404100  ...  96.440002       0\n",
              "1528968900    6479.979980        0.753000  ...  96.470001       1\n",
              "1528968960    6480.000000        1.490900  ...  96.400002       0\n",
              "\n",
              "[5 rows x 10 columns]"
            ]
          },
          "metadata": {},
          "execution_count": 10
        }
      ]
    },
    {
      "cell_type": "markdown",
      "metadata": {
        "id": "KgCnaYr2XIiM"
      },
      "source": [
        "Normalizing and creating sequences for our data\n"
      ]
    },
    {
      "cell_type": "code",
      "metadata": {
        "id": "n9Hd7TTsXIUn"
      },
      "source": [
        "#Have to seperate validation/out of sample data\n",
        "#data here is sequential cannot use shuffle\n",
        "#Have to slice our validation while in order\n",
        "#take last 5% as validation data"
      ],
      "execution_count": null,
      "outputs": []
    },
    {
      "cell_type": "code",
      "metadata": {
        "id": "1ZbsQ_kOXING"
      },
      "source": [
        "#.values gives an array\n",
        "# get the times,.index references the index, .values gets a numpy array\n",
        "times = sorted(main_df.index.values) \n",
        "# get the last 5% of the times\n",
        "last_5pct = sorted(main_df.index.values)[-int(0.05*len(times))]  \n",
        "# make the validation data where the index is in the last 5%\n",
        "validation_main_df = main_df[(main_df.index >= last_5pct)] "
      ],
      "execution_count": 11,
      "outputs": []
    },
    {
      "cell_type": "markdown",
      "metadata": {
        "id": "vVcbw6SWYsBN"
      },
      "source": [
        "we need to balance and normalize this data. By balance, we want to make sure the classes have equal amounts when training, so our model doesn't just always predict one class.\n",
        "\n",
        "Can use class weights, which allows you to weigh loss higher for lesser-frequent classifications."
      ]
    },
    {
      "cell_type": "code",
      "metadata": {
        "id": "4mhGbROcXIHd"
      },
      "source": [
        "from sklearn import preprocessing"
      ],
      "execution_count": 12,
      "outputs": []
    },
    {
      "cell_type": "code",
      "metadata": {
        "id": "RAFn4KgoXIA7"
      },
      "source": [
        "def preprocess_df(df):\n",
        "    df = df.drop(\"future\", 1)  # don't need this anymore.\n",
        "\n",
        "    for col in df.columns:  # go through all of the columns\n",
        "        if col != \"target\":  # normalize all ... except for the target itself!\n",
        "            df[col] = df[col].pct_change()  # pct change \"normalizes\" the different currencies (each crypto coin has vastly diff values, we're really more interested in the other coin's movements)\n",
        "            df.dropna(inplace=True)  # remove the nas created by pct_change\n",
        "            df[col] = preprocessing.scale(df[col].values)  # scale between 0 and 1.\n",
        "\n",
        "    df.dropna(inplace=True)  # cleanup again... jic.\n",
        "\n",
        "\n",
        "    sequential_data = []  # this is a list that will CONTAIN the sequences\n",
        "    prev_days = deque(maxlen=SEQ_LEN)  # These will be our actual sequences. They are made with deque, which keeps the maximum length by popping out older values as new ones come in\n",
        "\n",
        "    for i in df.values:  # iterate over the values\n",
        "        prev_days.append([n for n in i[:-1]])  # store all but the target\n",
        "        if len(prev_days) == SEQ_LEN:  # make sure we have 60 sequences!\n",
        "            sequential_data.append([np.array(prev_days), i[-1]])  # append those bad boys!\n",
        "\n",
        "    random.shuffle(sequential_data)  # shuffle for good measure.\n",
        "\n",
        "    buys = []  # list that will store our buy sequences and targets\n",
        "    sells = []  # list that will store our sell sequences and targets\n",
        "\n",
        "    for seq, target in sequential_data:  # iterate over the sequential data\n",
        "        if target == 0:  # if it's a \"not buy\"\n",
        "            sells.append([seq, target])  # append to sells list\n",
        "        elif target == 1:  # otherwise if the target is a 1...\n",
        "            buys.append([seq, target])  # it's a buy!\n",
        "\n",
        "    random.shuffle(buys)  # shuffle the buys\n",
        "    random.shuffle(sells)  # shuffle the sells!\n",
        "\n",
        "    lower = min(len(buys), len(sells))  # what's the shorter length?\n",
        "\n",
        "    buys = buys[:lower]  # make sure both lists are only up to the shortest length.\n",
        "    sells = sells[:lower]  # make sure both lists are only up to the shortest length.\n",
        "\n",
        "    sequential_data = buys+sells  # add them together\n",
        "    random.shuffle(sequential_data)  # another shuffle, so the model doesn't get confused with all 1 class then the other.\n",
        "\n",
        "    X = []\n",
        "    y = []\n",
        "\n",
        "    for seq, target in sequential_data:  # going over our new sequential data\n",
        "        X.append(seq)  # X is the sequences\n",
        "        y.append(target)  # y is the targets/labels (buys vs sell/notbuy)\n",
        "\n",
        "    return np.array(X), y  # return X and y...and make X a numpy array!\n",
        "  "
      ],
      "execution_count": 25,
      "outputs": []
    },
    {
      "cell_type": "markdown",
      "metadata": {
        "id": "SxqrAnz4agWM"
      },
      "source": [
        "After scaling and normalizing our data, we need to create actual sequences"
      ]
    },
    {
      "cell_type": "code",
      "metadata": {
        "id": "u_fHkGNKbMuG"
      },
      "source": [
        "from collections import deque\n",
        "import numpy as np\n",
        "import random"
      ],
      "execution_count": 20,
      "outputs": []
    },
    {
      "cell_type": "code",
      "metadata": {
        "id": "0tvc2mLLXH6G"
      },
      "source": [
        "# this is a list that will CONTAIN the sequences\n",
        "sequential_data = []  \n",
        "# These will be our actual sequences. They are made with deque, \n",
        "#which keeps the maximum length by popping out older values as \n",
        "#new ones come in\n",
        "prev_days = deque(maxlen=SEQ_LEN) \n",
        "\n",
        "for i in df.values:\n",
        "  #store all but the target\n",
        "  # n is a list in a list till the last i\n",
        "  prev_days.append([n for n in i[:-1]])\n",
        "  if len(prev_days) == SEQ_LEN:  # make sure we have 60 sequences\n",
        "            sequential_data.append([np.array(prev_days), i[-1]])\n",
        "  \n",
        "random.shuffle(sequential_data)  \n",
        "\n",
        "\n",
        "\n"
      ],
      "execution_count": 21,
      "outputs": []
    },
    {
      "cell_type": "markdown",
      "metadata": {
        "id": "uou8_EZTdOaZ"
      },
      "source": [
        "Our data now has sequences,normalized, and scaled"
      ]
    },
    {
      "cell_type": "code",
      "metadata": {
        "colab": {
          "base_uri": "https://localhost:8080/"
        },
        "id": "xO9sMJfjXHzz",
        "outputId": "019b38ef-714d-499f-980d-ecafb7b5ef6d"
      },
      "source": [
        "#Balancing the sequence data\n",
        "# list that will store our buy sequences and targets\n",
        "buys = []\n",
        " # list that will store our sell sequences and targets\n",
        "sells = [] \n",
        "\n",
        "for seq,target in sequential_data:\n",
        "  #if its a \"dun buy\"\n",
        "  if target==0:\n",
        "    sells.append([seq,target])\n",
        "\n",
        "  elif target==1:\n",
        "    buys.append([seq,target])\n",
        "\n",
        "# shuffle the buys\n",
        "random.shuffle(buys) \n",
        "# shuffle the sells \n",
        "random.shuffle(sells)  \n",
        "\n",
        "# finding out which has the shorter length(\"buy\" vs \"dun buy\")\n",
        "lower = min(len(buys), len(sells))\n",
        "\n",
        "#make sure both lists are only up to the shortest length\n",
        "buys = buys[:lower]\n",
        "sells = sells[:lower]\n",
        "\n",
        "#combining the 2\n",
        "sequential_data = buys+sells \n",
        "random.shuffle(sequential_data)\n",
        "\n",
        "X = []\n",
        "y = []\n",
        "\n",
        "for seq, target in sequential_data:\n",
        "  X.append(seq)\n",
        "  y.append(target)\n",
        "return np.array(X), y\n"
      ],
      "execution_count": 23,
      "outputs": [
        {
          "output_type": "execute_result",
          "data": {
            "text/plain": [
              "[array([[497.399994],\n",
              "        [497.899994],\n",
              "        [498.      ],\n",
              "        [498.      ],\n",
              "        [498.      ],\n",
              "        [498.      ],\n",
              "        [498.      ],\n",
              "        [498.      ],\n",
              "        [498.      ],\n",
              "        [498.      ],\n",
              "        [498.      ],\n",
              "        [497.98999 ],\n",
              "        [498.      ],\n",
              "        [498.      ],\n",
              "        [498.      ],\n",
              "        [498.      ],\n",
              "        [497.98999 ],\n",
              "        [497.600006],\n",
              "        [498.      ],\n",
              "        [498.      ],\n",
              "        [498.      ],\n",
              "        [498.      ],\n",
              "        [498.      ],\n",
              "        [498.690002],\n",
              "        [498.839996],\n",
              "        [498.98999 ],\n",
              "        [498.98999 ],\n",
              "        [498.98999 ],\n",
              "        [499.      ],\n",
              "        [499.      ],\n",
              "        [499.      ],\n",
              "        [498.5     ],\n",
              "        [497.709991],\n",
              "        [497.899994],\n",
              "        [497.899994],\n",
              "        [497.899994],\n",
              "        [497.929993],\n",
              "        [498.440002],\n",
              "        [498.440002],\n",
              "        [498.440002],\n",
              "        [498.380005],\n",
              "        [498.190002],\n",
              "        [498.100006],\n",
              "        [498.109985],\n",
              "        [498.109985],\n",
              "        [498.109985],\n",
              "        [498.109985],\n",
              "        [498.100006],\n",
              "        [497.690002],\n",
              "        [497.970001],\n",
              "        [497.970001],\n",
              "        [497.980011],\n",
              "        [497.980011],\n",
              "        [497.980011],\n",
              "        [497.660004],\n",
              "        [497.630005],\n",
              "        [497.450012],\n",
              "        [497.450012],\n",
              "        [497.450012],\n",
              "        [497.690002]]), 3.3341]"
            ]
          },
          "metadata": {},
          "execution_count": 23
        }
      ]
    },
    {
      "cell_type": "markdown",
      "metadata": {
        "id": "QpKmhpdRXHc4"
      },
      "source": [
        ""
      ]
    },
    {
      "cell_type": "code",
      "metadata": {
        "id": "Chug5lNDNIAc"
      },
      "source": [
        "train_x, train_y = preprocess_df(main_df)\n",
        "validation_x, validation_y = preprocess_df(validation_main_df)"
      ],
      "execution_count": 27,
      "outputs": []
    },
    {
      "cell_type": "code",
      "metadata": {
        "colab": {
          "base_uri": "https://localhost:8080/"
        },
        "id": "a9cszdYVNIFm",
        "outputId": "fd0961b2-20c0-4342-9d1e-be4abb31a3f1"
      },
      "source": [
        "print(f\"train data: {len(train_x)} validation: {len(validation_x)}\")\n",
        "print(f\"Dont buys: {train_y.count(0)}, buys: {train_y.count(1)}\")\n",
        "print(f\"VALIDATION Dont buys: {validation_y.count(0)}, buys: {validation_y.count(1)}\")"
      ],
      "execution_count": 28,
      "outputs": [
        {
          "output_type": "stream",
          "name": "stdout",
          "text": [
            "train data: 81812 validation: 3860\n",
            "Dont buys: 40906, buys: 40906\n",
            "VALIDATION Dont buys: 1930, buys: 1930\n"
          ]
        }
      ]
    },
    {
      "cell_type": "code",
      "metadata": {
        "id": "eU4dk23keszj"
      },
      "source": [
        ""
      ],
      "execution_count": null,
      "outputs": []
    },
    {
      "cell_type": "code",
      "metadata": {
        "id": "qaTcZRzPes7Q"
      },
      "source": [
        ""
      ],
      "execution_count": null,
      "outputs": []
    },
    {
      "cell_type": "code",
      "metadata": {
        "id": "rO0PAsxpetC4"
      },
      "source": [
        ""
      ],
      "execution_count": null,
      "outputs": []
    },
    {
      "cell_type": "code",
      "metadata": {
        "id": "GflF0KtEetKW"
      },
      "source": [
        ""
      ],
      "execution_count": null,
      "outputs": []
    },
    {
      "cell_type": "code",
      "metadata": {
        "id": "2WzIcvCXetRM"
      },
      "source": [
        ""
      ],
      "execution_count": null,
      "outputs": []
    },
    {
      "cell_type": "code",
      "metadata": {
        "id": "fmBTSaQfetYy"
      },
      "source": [
        ""
      ],
      "execution_count": null,
      "outputs": []
    },
    {
      "cell_type": "code",
      "metadata": {
        "id": "Oq8tFmuVetgR"
      },
      "source": [
        ""
      ],
      "execution_count": null,
      "outputs": []
    },
    {
      "cell_type": "code",
      "metadata": {
        "id": "foLijzcwetn7"
      },
      "source": [
        ""
      ],
      "execution_count": null,
      "outputs": []
    },
    {
      "cell_type": "code",
      "metadata": {
        "id": "7XJwSu-CetwR"
      },
      "source": [
        ""
      ],
      "execution_count": null,
      "outputs": []
    },
    {
      "cell_type": "code",
      "metadata": {
        "id": "Mpor9Ayoet4h"
      },
      "source": [
        ""
      ],
      "execution_count": null,
      "outputs": []
    },
    {
      "cell_type": "code",
      "metadata": {
        "id": "Zw0vllyceuAf"
      },
      "source": [
        ""
      ],
      "execution_count": null,
      "outputs": []
    },
    {
      "cell_type": "code",
      "metadata": {
        "id": "Rc8REwIFeuJD"
      },
      "source": [
        ""
      ],
      "execution_count": null,
      "outputs": []
    },
    {
      "cell_type": "code",
      "metadata": {
        "id": "nGPgl1Q5euUD"
      },
      "source": [
        ""
      ],
      "execution_count": null,
      "outputs": []
    },
    {
      "cell_type": "code",
      "metadata": {
        "id": "SP4-A1Cxeueu"
      },
      "source": [
        ""
      ],
      "execution_count": null,
      "outputs": []
    },
    {
      "cell_type": "code",
      "metadata": {
        "id": "DEVzRT2JeuoX"
      },
      "source": [
        ""
      ],
      "execution_count": null,
      "outputs": []
    },
    {
      "cell_type": "code",
      "metadata": {
        "id": "LeUkzRcJeuym"
      },
      "source": [
        ""
      ],
      "execution_count": null,
      "outputs": []
    },
    {
      "cell_type": "code",
      "metadata": {
        "id": "SbFKRI4ceu81"
      },
      "source": [
        ""
      ],
      "execution_count": null,
      "outputs": []
    },
    {
      "cell_type": "code",
      "metadata": {
        "id": "kLEprDJ0evHC"
      },
      "source": [
        ""
      ],
      "execution_count": null,
      "outputs": []
    },
    {
      "cell_type": "code",
      "metadata": {
        "id": "iB16L1ZrevRZ"
      },
      "source": [
        ""
      ],
      "execution_count": null,
      "outputs": []
    },
    {
      "cell_type": "code",
      "metadata": {
        "id": "yd59wXN7evcD"
      },
      "source": [
        ""
      ],
      "execution_count": null,
      "outputs": []
    },
    {
      "cell_type": "code",
      "metadata": {
        "id": "Zu8_mf1LevoC"
      },
      "source": [
        ""
      ],
      "execution_count": null,
      "outputs": []
    },
    {
      "cell_type": "code",
      "metadata": {
        "id": "k7bkiJctevyp"
      },
      "source": [
        ""
      ],
      "execution_count": null,
      "outputs": []
    }
  ]
}